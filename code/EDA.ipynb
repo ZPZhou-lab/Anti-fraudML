{
 "cells": [
  {
   "cell_type": "code",
   "execution_count": 165,
   "metadata": {},
   "outputs": [
    {
     "ename": "ModuleNotFoundError",
     "evalue": "No module named 'tensorflow'",
     "output_type": "error",
     "traceback": [
      "\u001b[0;31m---------------------------------------------------------------------------\u001b[0m",
      "\u001b[0;31mModuleNotFoundError\u001b[0m                       Traceback (most recent call last)",
      "\u001b[1;32m/Users/zhouzhipeng/Desktop/反欺诈比赛/Anti-fraudML/code/EDA.ipynb 单元格 1\u001b[0m in \u001b[0;36m<cell line: 10>\u001b[0;34m()\u001b[0m\n\u001b[1;32m      <a href='vscode-notebook-cell:/Users/zhouzhipeng/Desktop/%E5%8F%8D%E6%AC%BA%E8%AF%88%E6%AF%94%E8%B5%9B/Anti-fraudML/code/EDA.ipynb#W0sZmlsZQ%3D%3D?line=7'>8</a>\u001b[0m \u001b[39mimport\u001b[39;00m \u001b[39mseaborn\u001b[39;00m \u001b[39mas\u001b[39;00m \u001b[39msns\u001b[39;00m\n\u001b[1;32m      <a href='vscode-notebook-cell:/Users/zhouzhipeng/Desktop/%E5%8F%8D%E6%AC%BA%E8%AF%88%E6%AF%94%E8%B5%9B/Anti-fraudML/code/EDA.ipynb#W0sZmlsZQ%3D%3D?line=8'>9</a>\u001b[0m \u001b[39mfrom\u001b[39;00m \u001b[39mutils\u001b[39;00m \u001b[39mimport\u001b[39;00m \u001b[39m*\u001b[39m\n\u001b[0;32m---> <a href='vscode-notebook-cell:/Users/zhouzhipeng/Desktop/%E5%8F%8D%E6%AC%BA%E8%AF%88%E6%AF%94%E8%B5%9B/Anti-fraudML/code/EDA.ipynb#W0sZmlsZQ%3D%3D?line=9'>10</a>\u001b[0m \u001b[39mimport\u001b[39;00m \u001b[39mtensorflow\u001b[39;00m \u001b[39mas\u001b[39;00m \u001b[39mtf\u001b[39;00m\n\u001b[1;32m     <a href='vscode-notebook-cell:/Users/zhouzhipeng/Desktop/%E5%8F%8D%E6%AC%BA%E8%AF%88%E6%AF%94%E8%B5%9B/Anti-fraudML/code/EDA.ipynb#W0sZmlsZQ%3D%3D?line=10'>11</a>\u001b[0m \u001b[39mfrom\u001b[39;00m \u001b[39mtensorflow\u001b[39;00m \u001b[39mimport\u001b[39;00m keras\n",
      "\u001b[0;31mModuleNotFoundError\u001b[0m: No module named 'tensorflow'"
     ]
    }
   ],
   "source": [
    "import pandas as pd\n",
    "import numpy as np\n",
    "from matplotlib import pyplot as plt\n",
    "from sklearn.ensemble import GradientBoostingClassifier, RandomForestClassifier\n",
    "from sklearn.model_selection import train_test_split, KFold\n",
    "from sklearn.metrics import f1_score, roc_auc_score\n",
    "import xgboost as xgb\n",
    "import seaborn as sns\n",
    "from utils import *"
   ]
  },
  {
   "cell_type": "code",
   "execution_count": null,
   "metadata": {},
   "outputs": [],
   "source": []
  },
  {
   "attachments": {},
   "cell_type": "markdown",
   "metadata": {},
   "source": [
    "### 静态信息"
   ]
  },
  {
   "cell_type": "code",
   "execution_count": 2,
   "metadata": {},
   "outputs": [
    {
     "name": "stdout",
     "output_type": "stream",
     "text": [
      "(6000, 5)\n"
     ]
    },
    {
     "data": {
      "text/html": [
       "<div>\n",
       "<style scoped>\n",
       "    .dataframe tbody tr th:only-of-type {\n",
       "        vertical-align: middle;\n",
       "    }\n",
       "\n",
       "    .dataframe tbody tr th {\n",
       "        vertical-align: top;\n",
       "    }\n",
       "\n",
       "    .dataframe thead th {\n",
       "        text-align: right;\n",
       "    }\n",
       "</style>\n",
       "<table border=\"1\" class=\"dataframe\">\n",
       "  <thead>\n",
       "    <tr style=\"text-align: right;\">\n",
       "      <th></th>\n",
       "      <th>zhdh</th>\n",
       "      <th>khrq</th>\n",
       "      <th>khjgdh</th>\n",
       "      <th>xb</th>\n",
       "      <th>nl</th>\n",
       "    </tr>\n",
       "  </thead>\n",
       "  <tbody>\n",
       "    <tr>\n",
       "      <th>0</th>\n",
       "      <td>DDF394282B1E1508</td>\n",
       "      <td>2018-04-13</td>\n",
       "      <td>577BCC91</td>\n",
       "      <td>1</td>\n",
       "      <td>25</td>\n",
       "    </tr>\n",
       "    <tr>\n",
       "      <th>1</th>\n",
       "      <td>CAE68290A37CC77D</td>\n",
       "      <td>2016-04-02</td>\n",
       "      <td>34ED066D</td>\n",
       "      <td>1</td>\n",
       "      <td>27</td>\n",
       "    </tr>\n",
       "    <tr>\n",
       "      <th>2</th>\n",
       "      <td>41E4A8AECE47E5F3</td>\n",
       "      <td>2014-09-28</td>\n",
       "      <td>30BB3825</td>\n",
       "      <td>1</td>\n",
       "      <td>44</td>\n",
       "    </tr>\n",
       "    <tr>\n",
       "      <th>3</th>\n",
       "      <td>163C42F2A3FD518E</td>\n",
       "      <td>2010-06-11</td>\n",
       "      <td>34ED066D</td>\n",
       "      <td>1</td>\n",
       "      <td>55</td>\n",
       "    </tr>\n",
       "    <tr>\n",
       "      <th>4</th>\n",
       "      <td>6FBFEB03252FDB9F</td>\n",
       "      <td>2015-08-20</td>\n",
       "      <td>D64A340B</td>\n",
       "      <td>0</td>\n",
       "      <td>44</td>\n",
       "    </tr>\n",
       "  </tbody>\n",
       "</table>\n",
       "</div>"
      ],
      "text/plain": [
       "               zhdh        khrq    khjgdh  xb  nl\n",
       "0  DDF394282B1E1508  2018-04-13  577BCC91   1  25\n",
       "1  CAE68290A37CC77D  2016-04-02  34ED066D   1  27\n",
       "2  41E4A8AECE47E5F3  2014-09-28  30BB3825   1  44\n",
       "3  163C42F2A3FD518E  2010-06-11  34ED066D   1  55\n",
       "4  6FBFEB03252FDB9F  2015-08-20  D64A340B   0  44"
      ]
     },
     "execution_count": 2,
     "metadata": {},
     "output_type": "execute_result"
    }
   ],
   "source": [
    "user = pd.read_csv(\"../../data/账户静态信息.csv\")\n",
    "print(user.shape)\n",
    "user.head()"
   ]
  },
  {
   "cell_type": "code",
   "execution_count": 13,
   "metadata": {},
   "outputs": [],
   "source": [
    "def build_static_feats(df : pd.DataFrame):\n",
    "    def label_encode(series):\n",
    "        unique = list(series.unique())\n",
    "        return series.map(dict(zip(\n",
    "            unique, range(series.nunique()))))\n",
    "\n",
    "    df = df.set_index(\"zhdh\")\n",
    "    df['khrq']  = pd.to_datetime(df['khrq'], format='%Y-%m-%d')\n",
    "    df['year']  = df['khrq'].dt.year\n",
    "    df['month'] = df['khrq'].dt.month\n",
    "    df['day']   = df['khrq'].dt.day\n",
    "    \n",
    "    for col in ['khjgdh']:\n",
    "        df[col] = label_encode(df[col])\n",
    "\n",
    "    date = df.pop(\"khrq\")\n",
    "    \n",
    "    return df"
   ]
  },
  {
   "attachments": {},
   "cell_type": "markdown",
   "metadata": {},
   "source": [
    "### 交易信息"
   ]
  },
  {
   "cell_type": "code",
   "execution_count": 4,
   "metadata": {},
   "outputs": [
    {
     "name": "stdout",
     "output_type": "stream",
     "text": [
      "(816270, 12)\n"
     ]
    },
    {
     "data": {
      "text/html": [
       "<div>\n",
       "<style scoped>\n",
       "    .dataframe tbody tr th:only-of-type {\n",
       "        vertical-align: middle;\n",
       "    }\n",
       "\n",
       "    .dataframe tbody tr th {\n",
       "        vertical-align: top;\n",
       "    }\n",
       "\n",
       "    .dataframe thead th {\n",
       "        text-align: right;\n",
       "    }\n",
       "</style>\n",
       "<table border=\"1\" class=\"dataframe\">\n",
       "  <thead>\n",
       "    <tr style=\"text-align: right;\">\n",
       "      <th></th>\n",
       "      <th>jylsxh</th>\n",
       "      <th>zhdh</th>\n",
       "      <th>dfzh</th>\n",
       "      <th>jdbj</th>\n",
       "      <th>jyje</th>\n",
       "      <th>zhye</th>\n",
       "      <th>dfhh</th>\n",
       "      <th>jyrq</th>\n",
       "      <th>jysj</th>\n",
       "      <th>jyqd</th>\n",
       "      <th>zydh</th>\n",
       "      <th>dfmccd</th>\n",
       "    </tr>\n",
       "  </thead>\n",
       "  <tbody>\n",
       "    <tr>\n",
       "      <th>0</th>\n",
       "      <td>5D252156AE9F6B6595A1C56F56D4F91C</td>\n",
       "      <td>86C379D938234BAA</td>\n",
       "      <td>14BEFED1370B730A</td>\n",
       "      <td>0</td>\n",
       "      <td>310.00</td>\n",
       "      <td>57806.83</td>\n",
       "      <td>834E1F06</td>\n",
       "      <td>2020-03-01</td>\n",
       "      <td>00:18:06</td>\n",
       "      <td>E96ED478</td>\n",
       "      <td>4E0CB6FB</td>\n",
       "      <td>45</td>\n",
       "    </tr>\n",
       "    <tr>\n",
       "      <th>1</th>\n",
       "      <td>8BB3D82CA8E5F95577CA3E2DF432DF64</td>\n",
       "      <td>8EB373F073727157</td>\n",
       "      <td>FD7F11B33576339B</td>\n",
       "      <td>1</td>\n",
       "      <td>599.99</td>\n",
       "      <td>7099.73</td>\n",
       "      <td>B3D461D4</td>\n",
       "      <td>2020-03-01</td>\n",
       "      <td>00:18:17</td>\n",
       "      <td>621461AF</td>\n",
       "      <td>A3C65C29</td>\n",
       "      <td>6</td>\n",
       "    </tr>\n",
       "    <tr>\n",
       "      <th>2</th>\n",
       "      <td>412B7E903BC06882EEB9FB6A484D0773</td>\n",
       "      <td>997DED969A377D40</td>\n",
       "      <td>014F2782648E7FDA</td>\n",
       "      <td>1</td>\n",
       "      <td>4000.00</td>\n",
       "      <td>34448.04</td>\n",
       "      <td>A71C76B8</td>\n",
       "      <td>2020-03-01</td>\n",
       "      <td>00:18:30</td>\n",
       "      <td>621461AF</td>\n",
       "      <td>A3C65C29</td>\n",
       "      <td>6</td>\n",
       "    </tr>\n",
       "    <tr>\n",
       "      <th>3</th>\n",
       "      <td>F1122F893AC75DC8751190C67E1C3DB6</td>\n",
       "      <td>8EB373F073727157</td>\n",
       "      <td>129FAF9FD9D03346</td>\n",
       "      <td>1</td>\n",
       "      <td>299.98</td>\n",
       "      <td>7399.71</td>\n",
       "      <td>8A1BC467</td>\n",
       "      <td>2020-03-01</td>\n",
       "      <td>00:19:06</td>\n",
       "      <td>621461AF</td>\n",
       "      <td>A3C65C29</td>\n",
       "      <td>6</td>\n",
       "    </tr>\n",
       "    <tr>\n",
       "      <th>4</th>\n",
       "      <td>8BD9575EA55E67D4E99AC43B2A444172</td>\n",
       "      <td>8EB373F073727157</td>\n",
       "      <td>3B9CD92F13274EBA</td>\n",
       "      <td>1</td>\n",
       "      <td>999.96</td>\n",
       "      <td>8399.67</td>\n",
       "      <td>A8DA3378</td>\n",
       "      <td>2020-03-01</td>\n",
       "      <td>00:19:17</td>\n",
       "      <td>091D584F</td>\n",
       "      <td>2618045A</td>\n",
       "      <td>6</td>\n",
       "    </tr>\n",
       "  </tbody>\n",
       "</table>\n",
       "</div>"
      ],
      "text/plain": [
       "                             jylsxh              zhdh              dfzh  jdbj  \\\n",
       "0  5D252156AE9F6B6595A1C56F56D4F91C  86C379D938234BAA  14BEFED1370B730A     0   \n",
       "1  8BB3D82CA8E5F95577CA3E2DF432DF64  8EB373F073727157  FD7F11B33576339B     1   \n",
       "2  412B7E903BC06882EEB9FB6A484D0773  997DED969A377D40  014F2782648E7FDA     1   \n",
       "3  F1122F893AC75DC8751190C67E1C3DB6  8EB373F073727157  129FAF9FD9D03346     1   \n",
       "4  8BD9575EA55E67D4E99AC43B2A444172  8EB373F073727157  3B9CD92F13274EBA     1   \n",
       "\n",
       "      jyje      zhye      dfhh        jyrq      jysj      jyqd      zydh  \\\n",
       "0   310.00  57806.83  834E1F06  2020-03-01  00:18:06  E96ED478  4E0CB6FB   \n",
       "1   599.99   7099.73  B3D461D4  2020-03-01  00:18:17  621461AF  A3C65C29   \n",
       "2  4000.00  34448.04  A71C76B8  2020-03-01  00:18:30  621461AF  A3C65C29   \n",
       "3   299.98   7399.71  8A1BC467  2020-03-01  00:19:06  621461AF  A3C65C29   \n",
       "4   999.96   8399.67  A8DA3378  2020-03-01  00:19:17  091D584F  2618045A   \n",
       "\n",
       "   dfmccd  \n",
       "0      45  \n",
       "1       6  \n",
       "2       6  \n",
       "3       6  \n",
       "4       6  "
      ]
     },
     "execution_count": 4,
     "metadata": {},
     "output_type": "execute_result"
    }
   ],
   "source": [
    "trade= pd.read_csv(\"../../data/账户交易信息.csv\")\n",
    "print(trade.shape)\n",
    "trade.head()"
   ]
  },
  {
   "cell_type": "code",
   "execution_count": 5,
   "metadata": {},
   "outputs": [],
   "source": [
    "def build_dynamic_feats(df : pd.DataFrame):\n",
    "    # 用户维度单独聚合\n",
    "    feats = pd.DataFrame() # init features\n",
    "\n",
    "    # 用户和其他1个维度交叉聚合\n",
    "    feats = aggregate_trade(df,feats)\n",
    "    feats = aggregate_trade_people(df,feats)\n",
    "    feats = aggregate_trade_bank(df,feats)\n",
    "    feats = aggregate_trade_days(df,feats)\n",
    "    feats = aggregate_trade_channel(df,feats)\n",
    "    feats = aggregate_trade_summary(df,feats)\n",
    "    feats = aggregate_trade_period(df,feats,freq=3600*1)\n",
    "\n",
    "    # 用户和其他 2 个维度交叉聚合\n",
    "    feats = aggregate_trade_label_money(df,feats) # jdbj & jyje\n",
    "\n",
    "\n",
    "    feats.fillna(value=-1,inplace=True)\n",
    "\n",
    "    return feats"
   ]
  },
  {
   "cell_type": "code",
   "execution_count": 162,
   "metadata": {},
   "outputs": [],
   "source": [
    "def cross_val_predict(X_train, y_train, X_test, folds : int=5):\n",
    "    spliter = KFold(n_splits=folds)\n",
    "    oof_pred = np.zeros_like(y_train,dtype=np.float64)\n",
    "    y_test = np.zeros(X_test.shape[0])\n",
    "    cv_scores = []\n",
    "    for i, (train_idx, valid_idx) in enumerate(spliter.split(X_train,y_train)):\n",
    "        print(\"Training Fold %d\"%(i+1))\n",
    "        train_data = xgb.DMatrix(X_train.iloc[train_idx],label=y_train[train_idx])\n",
    "        valid_data = xgb.DMatrix(X_train.iloc[valid_idx],label=y_train[valid_idx])\n",
    "        test_data = xgb.DMatrix(X_test)\n",
    "\n",
    "        # 创建模型\n",
    "        params = {\n",
    "            'booster': 'gbtree',\n",
    "            'objective': 'binary:logistic',\n",
    "            'eval_metric': 'auc',\n",
    "            'min_child_weight': 1.5,\n",
    "            'max_depth': 6,\n",
    "            'lambda': 10,\n",
    "            'subsample': 0.7,\n",
    "            'colsample_bytree': 0.7,\n",
    "            'colsample_bylevel': 0.7,\n",
    "            'eta': 0.3,\n",
    "            'tree_method': 'exact',\n",
    "        }\n",
    "        model = xgb.train(\n",
    "            params, train_data,\n",
    "            evals=[(train_data,\"train\"),(valid_data,\"valid\")],\n",
    "            num_boost_round=5000,\n",
    "            verbose_eval=100, \n",
    "            early_stopping_rounds=200\n",
    "        )\n",
    "\n",
    "        oof_pred[valid_idx] = model.predict(valid_data,ntree_limit=model.best_ntree_limit)\n",
    "        y_test += model.predict(test_data,ntree_limit=model.best_ntree_limit) / folds\n",
    "        cv_scores.append(roc_auc_score(y_train[valid_idx],oof_pred[valid_idx]))\n",
    "        print(\"CV score: %.4f\"%(cv_scores[-1]))\n",
    "    \n",
    "    return oof_pred, y_test, cv_scores"
   ]
  },
  {
   "cell_type": "code",
   "execution_count": 114,
   "metadata": {},
   "outputs": [],
   "source": [
    "static = build_static_feats(user)\n",
    "dynamic = build_dynamic_feats(trade)"
   ]
  },
  {
   "cell_type": "code",
   "execution_count": 146,
   "metadata": {},
   "outputs": [],
   "source": [
    "X_train, y_train, X_test = merge_feats(static,dynamic)"
   ]
  },
  {
   "cell_type": "code",
   "execution_count": 150,
   "metadata": {},
   "outputs": [
    {
     "name": "stdout",
     "output_type": "stream",
     "text": [
      "f1 score on train: 0.9931\n",
      "f1 score on valid: 0.8077\n"
     ]
    }
   ],
   "source": [
    "X_train, X_valid, y_train, y_valid = train_test_split(X_train,y_train,test_size=0.3,random_state=42)\n",
    "cols = X_train.columns\n",
    "model = GradientBoostingClassifier(\n",
    "    n_estimators=300,learning_rate=0.02,max_depth=3)\n",
    "model.fit(X_train[cols],y_train)\n",
    "output = evaluation_model(\n",
    "    model,X_train,y_train,X_valid,y_valid,\n",
    "    cols=cols,verbose=True)\n",
    "cols = output[2].index[0:30]"
   ]
  },
  {
   "cell_type": "code",
   "execution_count": 163,
   "metadata": {},
   "outputs": [
    {
     "name": "stdout",
     "output_type": "stream",
     "text": [
      "Training Fold 1\n",
      "[0]\ttrain-auc:0.94690\tvalid-auc:0.86281\n",
      "[100]\ttrain-auc:1.00000\tvalid-auc:0.90293\n",
      "[200]\ttrain-auc:1.00000\tvalid-auc:0.90603\n",
      "[225]\ttrain-auc:1.00000\tvalid-auc:0.90603\n",
      "CV score: 0.9087\n",
      "Training Fold 2\n",
      "[0]\ttrain-auc:0.91003\tvalid-auc:0.92517\n",
      "[100]\ttrain-auc:0.99988\tvalid-auc:0.96405\n",
      "[200]\ttrain-auc:1.00000\tvalid-auc:0.96112\n",
      "[252]\ttrain-auc:1.00000\tvalid-auc:0.96028\n",
      "CV score: 0.9649\n",
      "Training Fold 3\n",
      "[0]\ttrain-auc:0.91785\tvalid-auc:0.81264\n",
      "[100]\ttrain-auc:0.99983\tvalid-auc:0.96628\n",
      "[200]\ttrain-auc:1.00000\tvalid-auc:0.96169\n",
      "[278]\ttrain-auc:1.00000\tvalid-auc:0.95939\n",
      "CV score: 0.9678\n",
      "Training Fold 4\n",
      "[0]\ttrain-auc:0.90882\tvalid-auc:0.80901\n",
      "[100]\ttrain-auc:0.99992\tvalid-auc:0.98323\n",
      "[200]\ttrain-auc:1.00000\tvalid-auc:0.98225\n",
      "[247]\ttrain-auc:1.00000\tvalid-auc:0.98225\n",
      "CV score: 0.9849\n",
      "Training Fold 5\n",
      "[0]\ttrain-auc:0.90473\tvalid-auc:0.88663\n",
      "[100]\ttrain-auc:0.99976\tvalid-auc:0.98683\n",
      "[200]\ttrain-auc:1.00000\tvalid-auc:0.98354\n",
      "[240]\ttrain-auc:1.00000\tvalid-auc:0.98395\n",
      "CV score: 0.9885\n"
     ]
    }
   ],
   "source": [
    "oof, y_test, cv_scores = cross_val_predict(X_train[cols],y_train,X_test[cols])"
   ]
  },
  {
   "cell_type": "code",
   "execution_count": 164,
   "metadata": {},
   "outputs": [
    {
     "name": "stdout",
     "output_type": "stream",
     "text": [
      "oof best score: 0.8367\n"
     ]
    }
   ],
   "source": [
    "scores, thresholds = [], []\n",
    "best_score, best_threshold = 0, 0\n",
    "\n",
    "for threshold in np.arange(0.3,0.7,0.01):\n",
    "    preds = (oof > threshold).astype(int)\n",
    "    f1 = f1_score(y_train, preds)   \n",
    "    scores.append(f1)\n",
    "    thresholds.append(threshold)\n",
    "    if f1 > best_score:\n",
    "        best_score = f1\n",
    "        best_threshold = threshold\n",
    "print(\"oof best score: %.4f\"%(best_score))"
   ]
  },
  {
   "cell_type": "code",
   "execution_count": 135,
   "metadata": {},
   "outputs": [],
   "source": [
    "submit = pd.Series(index=X_test.index,name=\"black_flag\",\n",
    "                   data=(y_test > best_threshold).astype(int))\n",
    "submit.to_csv(\"../../data/test_submit.csv\")"
   ]
  },
  {
   "cell_type": "code",
   "execution_count": 143,
   "metadata": {},
   "outputs": [],
   "source": [
    "y_pred = model.predict(X_test)\n",
    "submit = pd.Series(index=X_test.index,name=\"black_flag\",\n",
    "                   data=y_pred)\n",
    "submit.to_csv(\"../../data/test_submit.csv\")"
   ]
  },
  {
   "cell_type": "code",
   "execution_count": null,
   "metadata": {},
   "outputs": [],
   "source": []
  }
 ],
 "metadata": {
  "kernelspec": {
   "display_name": "dev",
   "language": "python",
   "name": "python3"
  },
  "language_info": {
   "codemirror_mode": {
    "name": "ipython",
    "version": 3
   },
   "file_extension": ".py",
   "mimetype": "text/x-python",
   "name": "python",
   "nbconvert_exporter": "python",
   "pygments_lexer": "ipython3",
   "version": "3.9.12"
  },
  "orig_nbformat": 4,
  "vscode": {
   "interpreter": {
    "hash": "374b3edfa4de3ad87444095b0bbc6fc776c1b9b6e9dad2a13bc64cd63f0b9e4d"
   }
  }
 },
 "nbformat": 4,
 "nbformat_minor": 2
}
